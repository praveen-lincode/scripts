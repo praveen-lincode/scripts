{
 "cells": [
  {
   "cell_type": "code",
   "execution_count": 16,
   "metadata": {},
   "outputs": [
    {
     "name": "stdout",
     "output_type": "stream",
     "text": [
      "['chamfer_present', 'chamfer_present', 'chamfer_present', 'chamfer_present', 'chamfer_present', 'chamfer_present', 'chamfer_present', 'chamfer_present', 'chamfer_present', 'unshaped_tooth', 'unshaped_tooth', 'unshaped_tooth', 'unshaped_tooth', 'unshaped_tooth', 'unshaped_tooth', 'unshaped_tooth']\n"
     ]
    }
   ],
   "source": [
    "import glob\n",
    "import os \n",
    "import xml.etree.ElementTree as ET\n",
    "\n",
    "classes = []\n",
    "count_dic = {}\n",
    "path = \"D:\\\\lincode\\\\magna\\\\new_segg\\\\sleeve\\\\\"\n",
    "\n",
    "\n",
    "\n",
    "for file in glob.glob(os.path.join(path,'*.xml')):\n",
    "    n = []\n",
    "    tree = ET.parse(file)\n",
    "    for elt in tree.iter():\n",
    "        if (elt.tag == 'name'):\n",
    "            cls = elt.text\n",
    "            n.append(cls)\n",
    "            \n",
    "    if \"chamfer_present\" in n and \"chamfer_absent\" in n:\n",
    "        print(file)\n",
    "    if 'unshaped_tooth' in n and 'shaped_tooth' in n:\n",
    "        print(file)\n",
    "    print(n)\n",
    "    break"
   ]
  },
  {
   "cell_type": "code",
   "execution_count": 3,
   "metadata": {},
   "outputs": [
    {
     "name": "stderr",
     "output_type": "stream",
     "text": [
      "100%|██████████| 10/10 [00:00<00:00, 10034.22it/s]"
     ]
    },
    {
     "name": "stdout",
     "output_type": "stream",
     "text": [
      "0\n",
      "1\n",
      "2\n",
      "3\n",
      "4\n",
      "5\n",
      "6\n",
      "7\n",
      "8\n",
      "9\n"
     ]
    },
    {
     "name": "stderr",
     "output_type": "stream",
     "text": [
      "\n"
     ]
    }
   ],
   "source": [
    "from time import sleep\n",
    "from tqdm import tqdm\n",
    "for i in tqdm(range(10)):\n",
    "    print(i)"
   ]
  },
  {
   "cell_type": "code",
   "execution_count": null,
   "metadata": {},
   "outputs": [],
   "source": []
  }
 ],
 "metadata": {
  "kernelspec": {
   "display_name": "Python 3 (ipykernel)",
   "language": "python",
   "name": "python3"
  },
  "language_info": {
   "codemirror_mode": {
    "name": "ipython",
    "version": 3
   },
   "file_extension": ".py",
   "mimetype": "text/x-python",
   "name": "python",
   "nbconvert_exporter": "python",
   "pygments_lexer": "ipython3",
   "version": "3.8.13"
  }
 },
 "nbformat": 4,
 "nbformat_minor": 2
}
