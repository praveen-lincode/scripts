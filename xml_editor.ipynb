{
 "cells": [
  {
   "cell_type": "markdown",
   "metadata": {},
   "source": [
    "# RENAME"
   ]
  },
  {
   "cell_type": "code",
   "execution_count": 1,
   "metadata": {},
   "outputs": [],
   "source": [
    "# !pip install opencv-python\n",
    "import cv2"
   ]
  },
  {
   "cell_type": "code",
   "execution_count": 5,
   "metadata": {},
   "outputs": [
    {
     "name": "stdout",
     "output_type": "stream",
     "text": [
      "/home/lincode/Indo_medical/training/yolov3/yolov3/annotations/batch_12\n"
     ]
    }
   ],
   "source": [
    "import glob\n",
    "import os \n",
    "import xml.etree.ElementTree as ET\n",
    "import cv2\n",
    "\n",
    "path = '/home/lincode/Indo_medical/training/yolov3/yolov3/annotations/batch_12'\n",
    "\n",
    "print(path)"
   ]
  },
  {
   "cell_type": "code",
   "execution_count": 7,
   "metadata": {
    "tags": []
   },
   "outputs": [],
   "source": [
    "classes = []\n",
    "for f in range(5):\n",
    "    count = 0\n",
    "    path = f'/home/tbal/lincode/modeling/gorad/yolov5/annotations/batch_{f}'\n",
    "#     path = f'/home/tbal/lincode/modeling/gorad/yolov5/annotations/'\n",
    "    for file in glob.glob(os.path.join(path,'*.xml')):\n",
    "    #     print((file.split('/')[-1]).split('.')[0])\n",
    "        tree = ET.parse(file)\n",
    "    #     print(tree)\n",
    "    #     print((tree.find('//filename').text)) \n",
    "    #     print((tree.find('//path').text))#.replace('_2_','_3_')) \n",
    "    #     print((tree.find('//object//name').text))\n",
    "    #     try:\n",
    "    #         if tree.find('//object//name').text == 'overlapping' :\n",
    "    #             print((tree.find('//object//name').text))\n",
    "    #             tree.find('//object//name').text = 'overlap'\n",
    "\n",
    "    #     except :\n",
    "    #         print(file)\n",
    "    #         pass\n",
    "    #         print(file)\n",
    "\n",
    "\n",
    "    #     tree.find('//path').text = tree.find('//path').text.replace('_2_','_3_')\n",
    "        for elt in tree.iter():\n",
    "            if (elt.tag == 'name'):\n",
    "                classes.append(elt.text )\n",
    "            if ((elt.tag == 'name') & ((elt.text == 'pip_break'))):\n",
    "                                      #or (elt.text == 'crack') or \n",
    "    #             (elt.text == 'pip_break') or (elt.text == 'pin_hole'))):\n",
    "            # if((elt.tag == 'name') & (elt.text not in ['double_ringmark','single_ringmark','arrow','model_no','lotmark'])):\n",
    "                # print(f'batch_{f}')\n",
    "                # print(elt.text )\n",
    "                elt.text = 'crack'\n",
    "                count += 1\n",
    "    # # #     tree.find('//filename').text = (file.split('/')[-1]).split('.')[0] + '.jpg' \n",
    "        tree.write(file)\n",
    "    if count > 0:\n",
    "        print(f'batch_{f}')\n",
    "        print(count)   "
   ]
  },
  {
   "cell_type": "code",
   "execution_count": 5,
   "metadata": {},
   "outputs": [],
   "source": [
    "import glob\n",
    "import os \n",
    "import xml.etree.ElementTree as ET\n",
    "import cv2\n",
    "classes = []\n",
    "for f in range(28):\n",
    "    count = 0\n",
    "    path = f'/home/lincode/Documents/Gokul/INDO_MIM/notebooks/yolov3/yolov3/annotations/batch_{f}'\n",
    "    # path = f'/home/lincode/Documents/Gokul/INDO_MIM/notebooks/yolov3/yolov3/annotations/val'\n",
    "    # path = f'/home/lincode/Documents/Gokul/INDO_MIM/notebooks/yolov3/yolov3/annotations/XmlToTxt/train_xml_edited'\n",
    "    for file in glob.glob(os.path.join(path,'*.xml')):\n",
    "    #     print((file.split('/')[-1]).split('.')[0])\n",
    "        tree = ET.parse(file)\n",
    "        for elt in tree.iter():\n",
    "            if (elt.tag == 'name'):\n",
    "                classes.append(elt.text )\n",
    "            if ((elt.tag == 'name') & ((elt.text == 'crack'))):\n",
    "                img_name =  file.replace(\".xml\",\".jpg\")#(file.spilt(\"/\")[-1])\n",
    "                img = cv2.imread(img_name)\n",
    "                # print(elt.text )\n",
    "                # elt.text = 'mdv001'\n",
    "\n",
    "                count += 1\n",
    "    # # #     tree.find('//filename').text = (file.split('/')[-1]).split('.')[0] + '.jpg' \n",
    "            if count >0 :\n",
    "                img_name = img_name.replace(f\"/batch_{f}/\",\"/batch_30/\")\n",
    "                file = file.replace(f\"/batch_{f}/\",\"/batch_30/\")\n",
    "                tree.write(file)\n",
    "                cv2.imwrite(img_name ,img)\n",
    "                count = 0\n",
    "    if count > 0:\n",
    "        print(f'batch_{f}')\n",
    "        print(count)   "
   ]
  },
  {
   "cell_type": "code",
   "execution_count": 4,
   "metadata": {},
   "outputs": [
    {
     "name": "stdout",
     "output_type": "stream",
     "text": [
      "0\n"
     ]
    }
   ],
   "source": [
    "print(count)"
   ]
  },
  {
   "cell_type": "code",
   "execution_count": 3,
   "metadata": {},
   "outputs": [
    {
     "name": "stdout",
     "output_type": "stream",
     "text": [
      "False: 'False'\n",
      "False: 'False'\n",
      "False: 'False'\n",
      "False: 'False'\n",
      "False: 'False'\n",
      "False: 'False'\n",
      "False: 'False'\n",
      "False: 'False'\n",
      "False: 'False'\n",
      "False: 'False'\n",
      "False: 'False'\n",
      "False: 'False'\n",
      "True: 'False'\n",
      "False: 'False'\n",
      "False: 'False'\n",
      "False: 'False'\n",
      "False: 'False'\n",
      "False: 'False'\n",
      "False: 'False'\n",
      "False: 'False'\n",
      "False: 'False'\n",
      "False: 'False'\n",
      "True: 'False'\n",
      "False: 'False'\n",
      "False: 'False'\n",
      "False: 'False'\n",
      "False: 'False'\n",
      "False: 'False'\n",
      "False: 'False'\n",
      "False: 'False'\n",
      "False: 'False'\n",
      "False: 'False'\n",
      "True: 'False'\n",
      "False: 'False'\n",
      "False: 'False'\n",
      "False: 'False'\n",
      "False: 'False'\n",
      "False: 'False'\n",
      "False: 'False'\n",
      "False: 'False'\n",
      "False: 'False'\n",
      "False: 'False'\n",
      "True: 'False'\n",
      "False: 'False'\n",
      "False: 'False'\n",
      "False: 'False'\n",
      "False: 'False'\n",
      "False: 'False'\n",
      "False: 'False'\n",
      "False: 'False'\n",
      "False: 'False'\n",
      "False: 'False'\n",
      "True: 'False'\n",
      "False: 'False'\n",
      "False: 'False'\n",
      "False: 'False'\n",
      "False: 'False'\n",
      "False: 'False'\n",
      "False: 'False'\n",
      "False: 'False'\n",
      "False: 'False'\n"
     ]
    }
   ],
   "source": [
    "# for elt in tree.iter():\n",
    "#     print (\"%s: '%s'\" % (elt.tag == 'name', elt.text == 'mantle_rustw'))"
   ]
  },
  {
   "cell_type": "markdown",
   "metadata": {},
   "source": [
    "# CROP"
   ]
  },
  {
   "cell_type": "code",
   "execution_count": 2,
   "metadata": {},
   "outputs": [],
   "source": [
    "import glob\n",
    "import os \n",
    "import xml.etree.ElementTree as ET\n",
    "import cv2\n",
    "import uuid \n",
    "\n",
    "path = '/home/gokul/Desktop/Cataler/data/Annotation/batch_1_all/batch_1'"
   ]
  },
  {
   "cell_type": "code",
   "execution_count": 136,
   "metadata": {},
   "outputs": [],
   "source": [
    "file = 'Batch_16_31.xml'\n",
    "e  = []\n",
    "tree = ET.parse(file)\n",
    "\n",
    "root = tree.getroot()\n",
    "\n",
    "# for elt in tree.iter():\n",
    "# #     print(elt.tag)\n",
    "# #     print(elt.text)\n",
    "# #     (elt.text)\n",
    "#     obj = tree.find('object//name').text == 'model_no'\n",
    "#     if elt.text == 'model_no':\n",
    "        "
   ]
  },
  {
   "cell_type": "code",
   "execution_count": 137,
   "metadata": {},
   "outputs": [
    {
     "data": {
      "text/plain": [
       "<xml.etree.ElementTree.ElementTree at 0x7f38ccb4d190>"
      ]
     },
     "execution_count": 137,
     "metadata": {},
     "output_type": "execute_result"
    }
   ],
   "source": [
    "tree"
   ]
  },
  {
   "cell_type": "code",
   "execution_count": 138,
   "metadata": {},
   "outputs": [
    {
     "data": {
      "text/plain": [
       "<Element 'annotation' at 0x7f38ccb61e30>"
      ]
     },
     "execution_count": 138,
     "metadata": {},
     "output_type": "execute_result"
    }
   ],
   "source": [
    "root"
   ]
  },
  {
   "cell_type": "code",
   "execution_count": 139,
   "metadata": {},
   "outputs": [
    {
     "data": {
      "text/plain": [
       "'annotation'"
      ]
     },
     "execution_count": 139,
     "metadata": {},
     "output_type": "execute_result"
    }
   ],
   "source": [
    "root.tag"
   ]
  },
  {
   "cell_type": "code",
   "execution_count": 140,
   "metadata": {},
   "outputs": [
    {
     "data": {
      "text/plain": [
       "{}"
      ]
     },
     "execution_count": 140,
     "metadata": {},
     "output_type": "execute_result"
    }
   ],
   "source": [
    "root.attrib"
   ]
  },
  {
   "cell_type": "code",
   "execution_count": 142,
   "metadata": {},
   "outputs": [
    {
     "name": "stdout",
     "output_type": "stream",
     "text": [
      "folder {}\n",
      "filename {}\n",
      "path {}\n",
      "source {}\n",
      "size {}\n",
      "segmented {}\n",
      "object {}\n",
      "object {}\n",
      "object {}\n",
      "object {}\n",
      "object {}\n"
     ]
    }
   ],
   "source": [
    "for child in root:\n",
    "    print(child.tag,child.attrib)"
   ]
  },
  {
   "cell_type": "code",
   "execution_count": 155,
   "metadata": {},
   "outputs": [
    {
     "name": "stdout",
     "output_type": "stream",
     "text": [
      "{}\n",
      "{}\n",
      "{}\n",
      "{}\n",
      "{}\n"
     ]
    }
   ],
   "source": [
    "for name in root.iter('name'):\n",
    "    print(name.attrib)"
   ]
  },
  {
   "cell_type": "code",
   "execution_count": 179,
   "metadata": {},
   "outputs": [],
   "source": [
    "def remove_create_directory(directory):\n",
    "    if os.path.exists(directory):\n",
    "        shutil.rmtree(directory)  # delete output folder\n",
    "    os.makedirs(directory)"
   ]
  },
  {
   "cell_type": "code",
   "execution_count": null,
   "metadata": {},
   "outputs": [],
   "source": [
    "def crops_xml(obj='model_no',source_directory,result_directory,batch_name='ocr',object_name='CA8'):\n",
    "    remove_create_directory(result_directory+obj)\n",
    "    \n",
    "    for file in glob.glob(source_directory+'/*.xml'):\n",
    "        tree = ET.parse(file)\n",
    "        \n",
    "        imf = file.replace(file.split('/')[-1],tree.find('//filename').text)\n",
    "        cv2.imread(imf)\n",
    "        for obj in root.findall('object'):\n",
    "            if obj.find('name').text == 'model_no':\n",
    "                xmin = (obj.find('bndbox//xmin').text)\n",
    "                ymin = (obj.find('bndbox//ymin').text)\n",
    "                xmax = (obj.find('bndbox//xmax').text)\n",
    "                ymax = (obj.find('bndbox//ymax').text)\n",
    "            cv2.imwrite(result_directory+'/'+object_name+'_'+ obj+ batch_name +'_'+str(uuid)+'.jpg',img[int(ymin):int(ymax),int(xmin):int(xmax)])\n"
   ]
  },
  {
   "cell_type": "code",
   "execution_count": 183,
   "metadata": {},
   "outputs": [],
   "source": [
    "imf = file.split('/')[:-1]"
   ]
  },
  {
   "cell_type": "code",
   "execution_count": 222,
   "metadata": {},
   "outputs": [
    {
     "ename": "SyntaxError",
     "evalue": "non-default argument follows default argument (<ipython-input-222-97c5ac6f2ca0>, line 14)",
     "output_type": "error",
     "traceback": [
      "\u001b[0;36m  File \u001b[0;32m\"<ipython-input-222-97c5ac6f2ca0>\"\u001b[0;36m, line \u001b[0;32m14\u001b[0m\n\u001b[0;31m    def crops_xml(obj='model_no',source_directory,result_directory,batch_name='ocr',object_name='CA8'):\u001b[0m\n\u001b[0m                 ^\u001b[0m\n\u001b[0;31mSyntaxError\u001b[0m\u001b[0;31m:\u001b[0m non-default argument follows default argument\n"
     ]
    }
   ],
   "source": [
    "import glob\n",
    "import os \n",
    "import xml.etree.ElementTree as ET\n",
    "import cv2\n",
    "import uuid \n",
    "\n",
    "\n",
    "\n",
    "def remove_create_directory(directory):\n",
    "    if os.path.exists(directory):\n",
    "        shutil.rmtree(directory)  # delete output folder\n",
    "    os.makedirs(directory)\n",
    "    \n",
    "def crops_xml(obj='model_no',source_directory,result_directory,batch_name='ocr',object_name='CA8'):\n",
    "    remove_create_directory(result_directory+obj)\n",
    "    \n",
    "    for file in glob.glob(source_directory+'/*.xml'):\n",
    "        tree = ET.parse(file)\n",
    "        \n",
    "        imf = file.replace(file.split('/')[-1],tree.find('//filename').text)\n",
    "        cv2.imread(imf)\n",
    "        for obj in root.findall('object'):\n",
    "            if obj.find('name').text == 'model_no':\n",
    "                xmin = (obj.find('bndbox//xmin').text)\n",
    "                ymin = (obj.find('bndbox//ymin').text)\n",
    "                xmax = (obj.find('bndbox//xmax').text)\n",
    "                ymax = (obj.find('bndbox//ymax').text)\n",
    "            cv2.imwrite(result_directory+'/'+object_name+'_'+ obj+ str(batch_name) +'_'+str(uuid)+'.jpg',img[int(ymin):int(ymax),int(xmin):int(xmax)])\n",
    "\n",
    "    \n"
   ]
  },
  {
   "cell_type": "code",
   "execution_count": 228,
   "metadata": {},
   "outputs": [
    {
     "name": "stdout",
     "output_type": "stream",
     "text": [
      "/home/gokul/Desktop/Cataler/data/Annotation/batch_1_all/batch_1/Mantle_44.xml\n",
      "/home/gokul/Desktop/Cataler/data/Annotation/batch_1_all/batch_1/Mantle_44.jpg\n",
      "274 262 342 296\n"
     ]
    },
    {
     "name": "stderr",
     "output_type": "stream",
     "text": [
      "/home/gokul/.local/lib/python3.7/site-packages/ipykernel_launcher.py:23: FutureWarning: This search is broken in 1.3 and earlier, and will be fixed in a future version.  If you rely on the current behaviour, change it to './/filename'\n"
     ]
    },
    {
     "ename": "TypeError",
     "evalue": "can only concatenate str (not \"xml.etree.ElementTree.Element\") to str",
     "output_type": "error",
     "traceback": [
      "\u001b[0;31m---------------------------------------------------------------------------\u001b[0m",
      "\u001b[0;31mTypeError\u001b[0m                                 Traceback (most recent call last)",
      "\u001b[0;32m<ipython-input-228-ee5c128d4d63>\u001b[0m in \u001b[0;36m<module>\u001b[0;34m\u001b[0m\n\u001b[1;32m     43\u001b[0m \u001b[0mobject_name\u001b[0m \u001b[0;34m=\u001b[0m \u001b[0;34m'CA8'\u001b[0m\u001b[0;34m\u001b[0m\u001b[0;34m\u001b[0m\u001b[0m\n\u001b[1;32m     44\u001b[0m \u001b[0;34m\u001b[0m\u001b[0m\n\u001b[0;32m---> 45\u001b[0;31m \u001b[0mcrops_xml\u001b[0m\u001b[0;34m(\u001b[0m\u001b[0mobj\u001b[0m\u001b[0;34m,\u001b[0m\u001b[0msrc_dir\u001b[0m\u001b[0;34m,\u001b[0m\u001b[0mres_dir\u001b[0m\u001b[0;34m,\u001b[0m\u001b[0mbatch_name\u001b[0m\u001b[0;34m,\u001b[0m\u001b[0mobject_name\u001b[0m\u001b[0;34m)\u001b[0m\u001b[0;34m\u001b[0m\u001b[0;34m\u001b[0m\u001b[0m\n\u001b[0m",
      "\u001b[0;32m<ipython-input-228-ee5c128d4d63>\u001b[0m in \u001b[0;36mcrops_xml\u001b[0;34m(obj, src_dir, res_dir, batch_name, object_name)\u001b[0m\n\u001b[1;32m     32\u001b[0m                 \u001b[0mymax\u001b[0m \u001b[0;34m=\u001b[0m \u001b[0;34m(\u001b[0m\u001b[0mobj\u001b[0m\u001b[0;34m.\u001b[0m\u001b[0mfind\u001b[0m\u001b[0;34m(\u001b[0m\u001b[0;34m'bndbox//ymax'\u001b[0m\u001b[0;34m)\u001b[0m\u001b[0;34m.\u001b[0m\u001b[0mtext\u001b[0m\u001b[0;34m)\u001b[0m\u001b[0;34m\u001b[0m\u001b[0;34m\u001b[0m\u001b[0m\n\u001b[1;32m     33\u001b[0m                 \u001b[0mprint\u001b[0m\u001b[0;34m(\u001b[0m\u001b[0mxmin\u001b[0m\u001b[0;34m,\u001b[0m\u001b[0mymin\u001b[0m\u001b[0;34m,\u001b[0m\u001b[0mxmax\u001b[0m\u001b[0;34m,\u001b[0m\u001b[0mymax\u001b[0m\u001b[0;34m)\u001b[0m\u001b[0;34m\u001b[0m\u001b[0;34m\u001b[0m\u001b[0m\n\u001b[0;32m---> 34\u001b[0;31m                 cv2.imwrite(res_dir+'/'+obj+'/'+object_name +'_'+str(i)+'.jpg',\n\u001b[0m\u001b[1;32m     35\u001b[0m                             img[int(ymin):int(ymax),int(xmin):int(xmax)])\n\u001b[1;32m     36\u001b[0m \u001b[0;34m\u001b[0m\u001b[0m\n",
      "\u001b[0;31mTypeError\u001b[0m: can only concatenate str (not \"xml.etree.ElementTree.Element\") to str"
     ]
    }
   ],
   "source": [
    "import glob\n",
    "import os \n",
    "import xml.etree.ElementTree as ET\n",
    "import cv2\n",
    "import uuid \n",
    "import argparse\n",
    "import shutil\n",
    "\n",
    "\n",
    "\n",
    "def remove_create_directory(directory):\n",
    "    if os.path.exists(directory):\n",
    "        shutil.rmtree(directory)  # delete output folder\n",
    "    os.makedirs(directory)\n",
    "    \n",
    "def crops_xml(obj,src_dir,res_dir,batch_name,object_name):\n",
    "    remove_create_directory((res_dir+'/'+obj))\n",
    "    i = 0\n",
    "    for file in glob.glob(src_dir+'/*.xml'):\n",
    "        tree = ET.parse(file)\n",
    "        root = tree.getroot()\n",
    "        \n",
    "        imf = file.replace(file.split('/')[-1],tree.find('//filename').text)\n",
    "        print(file)\n",
    "        print(imf)\n",
    "        img = cv2.imread(imf)\n",
    "        for obj in root.findall('object'):\n",
    "            if obj.find('name').text == 'model_no':\n",
    "                xmin = (obj.find('bndbox//xmin').text)\n",
    "                ymin = (obj.find('bndbox//ymin').text)\n",
    "                xmax = (obj.find('bndbox//xmax').text)\n",
    "                ymax = (obj.find('bndbox//ymax').text)\n",
    "                print(xmin,ymin,xmax,ymax)\n",
    "                cv2.imwrite(res_dir+'/'+obj+'/'+object_name +'_'+str(i)+'.jpg',\n",
    "                            img[int(ymin):int(ymax),int(xmin):int(xmax)])\n",
    "\n",
    "                i += 1\n",
    "\n",
    "obj = 'model_no'            \n",
    "src_dir  = '/home/gokul/Desktop/Cataler/data/Annotation/batch_1_all/batch_1'            \n",
    "res_dir  = '/home/gokul/Desktop/Cataler/data/Annotation/crops' \n",
    "batch_name ='ocr2'\n",
    "object_name = 'CA8'\n",
    "\n",
    "crops_xml(obj,src_dir,res_dir,batch_name,object_name)"
   ]
  },
  {
   "cell_type": "code",
   "execution_count": 201,
   "metadata": {},
   "outputs": [
    {
     "data": {
      "text/plain": [
       "'/home/gokul/Desktop/Cataler/data/Annotation/crops/CA8_model_noocr2_54c4de56-5a39-11ea-a01d-217fb02c7886.jpg'"
      ]
     },
     "execution_count": 201,
     "metadata": {},
     "output_type": "execute_result"
    }
   ],
   "source": [
    "obj = 'model_no'  \n",
    "src_dir  = '/home/gokul/Desktop/Cataler/data/Annotation/batch_1_all/batch_1'            \n",
    "res_dir  = '/home/gokul/Desktop/Cataler/data/Annotation/crops' \n",
    "batch_name ='ocr2'\n",
    "object_name = 'CA8'\n",
    "\n",
    "res_dir+'/'+str(object_name)+'_'+ obj+ batch_name +'_'+str(uuid.uuid1())+'.jpg'"
   ]
  },
  {
   "cell_type": "code",
   "execution_count": 212,
   "metadata": {},
   "outputs": [],
   "source": [
    "file = 'Batch_16_31.xml'\n",
    "e  = []\n",
    "tree = ET.parse(file)\n",
    "\n",
    "root = tree.getroot()\n",
    "for obj in root.findall('object'):\n",
    "#     print(obj)\n",
    "#     print(obj.find('name').text)\n",
    "    if obj.find('name').text == 'model_no':\n",
    "        xmin = (obj.find('bndbox//xmin').text)\n",
    "        ymin = (obj.find('bndbox//ymin').text)\n",
    "        xmax = (obj.find('bndbox//xmax').text)\n",
    "        ymax = (obj.find('bndbox//ymax').text)\n",
    "        \n",
    "        \n",
    "#     print(name)\n",
    "#    rank = name.find('rank').text\n",
    "#    name = country.get('name')\n",
    "#    print(name, rank)"
   ]
  },
  {
   "cell_type": "code",
   "execution_count": 214,
   "metadata": {},
   "outputs": [
    {
     "name": "stdout",
     "output_type": "stream",
     "text": [
      "a\n"
     ]
    },
    {
     "name": "stderr",
     "output_type": "stream",
     "text": [
      "/home/gokul/.local/lib/python3.7/site-packages/ipykernel_launcher.py:4: FutureWarning: This search is broken in 1.3 and earlier, and will be fixed in a future version.  If you rely on the current behaviour, change it to './/filename'\n",
      "  after removing the cwd from sys.path.\n"
     ]
    }
   ],
   "source": [
    "tree = ET.parse(file)\n",
    "root = tree.getroot()\n",
    "\n",
    "imf = file.replace(file.split('/')[-1],tree.find('//filename').text)\n",
    "cv2.imread(imf)\n",
    "for obj in tree.findall('object'):\n",
    "    if obj.find('name').text == 'model_no':\n",
    "        xmin = (obj.find('bndbox//xmin').text)\n",
    "        ymin = (obj.find('bndbox//ymin').text)\n",
    "        xmax = (obj.find('bndbox//xmax').text)\n",
    "        ymax = (obj.find('bndbox//ymax').text)\n",
    "        print('a')\n",
    "        cv2.imwrite(str(1)+'.jpg',\n",
    "                    img[int(ymin):int(ymax),int(xmin):int(xmax)])"
   ]
  },
  {
   "cell_type": "code",
   "execution_count": 188,
   "metadata": {},
   "outputs": [
    {
     "data": {
      "text/plain": [
       "<matplotlib.image.AxesImage at 0x7f38cbd4ea90>"
      ]
     },
     "execution_count": 188,
     "metadata": {},
     "output_type": "execute_result"
    },
    {
     "data": {
      "image/png": "[encoded data removed]",
      "text/plain": [
       "<Figure size 432x288 with 1 Axes>"
      ]
     },
     "metadata": {
      "needs_background": "light"
     },
     "output_type": "display_data"
    }
   ],
   "source": [
    "plt.imshow(img[int(ymin):int(ymax),int(xmin):int(xmax)])"
   ]
  },
  {
   "cell_type": "code",
   "execution_count": 6,
   "metadata": {},
   "outputs": [
    {
     "name": "stdout",
     "output_type": "stream",
     "text": [
      "['Pg_drill_gun' 'Surgery_knife' '_excess_sealant_primer' 'adhesive_drop'\n",
      " 'air_blower' 'alen_key' 'aluminium_metal_residue' 'aluminium_sheet'\n",
      " 'aluminium_tape' 'aluminium_tape_residue' 'aluminum_tape'\n",
      " 'aluminum_tape_residue' 'atm_card' 'b' 'belt' 'belt_sander' 'black-mark'\n",
      " 'black_dust' 'black_mark' 'black_mark_doubt' 'book' 'bottle' 'bristle'\n",
      " 'bristle_primer' 'broken_chips' 'broken_filler_gauge'\n",
      " 'broken_filler_guage' 'broken_stem' 'broken_zip_tag' 'broken_zip_tie'\n",
      " 'brown_paper' 'brush' 'brush_cap' 'bu' 'bubble_sheet' 'buck_tail'\n",
      " 'buckingbar' 'bur' 'burr' 'burr_dust' 'burr_waste' 'bursh_cap' 'c'\n",
      " 'capative_screw_installation_tool' 'carry_forward_tag' 'cello_tape'\n",
      " 'chip_chaser' 'chuck_key' 'cleco_plier' 'clico' 'cloth' 'coin'\n",
      " 'cold_working_tool' 'critical_area_floor_masking_tape'\n",
      " 'critical_area_floor_masking_tape_residue' 'csk_drill_bit'\n",
      " 'csk_micro_stopper' 'currency_note' 'dent' 'diary' 'drill_bit'\n",
      " 'drill_bitd' 'drill_gun' 'drill_handle' 'drill_stop' 'duct_cap' 'dust'\n",
      " 'ear_phone' 'ear_plug' 'ear_plug_rope' 'edge_deburring_tool'\n",
      " 'ejector_pin' 'electric_tape' 'electrical_primer_drop' 'electrical_tape'\n",
      " 'electrical_tape_residue' 'emery_sheet' 'excess_gum_residue'\n",
      " 'excess_paint' 'excess_prime' 'excess_primer' 'excess_primer_blob'\n",
      " 'excess_primer_burr' 'excess_primer_drop'\n",
      " 'excess_primer_on_bonding_surface' 'excess_primier' 'excess_sealant'\n",
      " 'excess_sealant_primer' 'excess_sealant_residue' 'excess_selanat_primer'\n",
      " 'fastner_missing' 'filler_gauge' 'flat_driver' 'flat_file'\n",
      " 'floor_masking_tape' 'floor_masking_tape_residue' 'foam' 'foam_bed'\n",
      " 'foam_cover' 'foam_piece' 'foam_sheet' 'fod_bag' 'fod_high_lock_collar'\n",
      " 'gloves' 'goggle' 'goggles' 'green_tape' 'gum_residue' 'h' 'hair'\n",
      " 'hair_primer' 'hair_residue' 'hand_kerchief' 'hand_sqeezer' 'handle'\n",
      " 'headset' 'high_lock_collar' 'hilok_removal_tool' 'hole_deburring_tool'\n",
      " 'hole_filler_bud' 'hole_filler_buds' 'hole_picker' 'id_card'\n",
      " 'id_card_tag' 'identification_tag' 'ink_mark' 'insect'\n",
      " 'instrument_kit_bag' 'jiffy_gun' 'k69_kaizen_tool' 'key' 'key_chain'\n",
      " 'knife' 'laptop' 'leaf' 'light' 'line_mark' 'loose_broken_sealant'\n",
      " 'loose_sealant' 'loose_sealant_residue' 'mask' 'masking_sealant'\n",
      " 'masking_tape' 'masking_tape_residual' 'masking_tape_residue' 'mirror'\n",
      " 'mis_engg' 'mobile_phone' 'ms_engg_file' 'nc_tag' 'no_paint' 'nose_piece'\n",
      " 'notebook' 'nut_plate' 'nut_plate_doubt' 'nut_plate_dought'\n",
      " 'nut_plate_jig' 'nut_plate_masking_plug' 'orange_tape'\n",
      " 'orange_tape-residue' 'orange_tape_residue' 'orange_tape_residuew'\n",
      " 'orange_tape_roll' 'p' 'paint_brush' 'paint_burr'\n",
      " 'paint_feather_strip_residue' 'paint_mark' 'paint_marks' 'paint_pee_off'\n",
      " 'paint_peel' 'paint_peel_off' 'paint_residue' 'paint_residue_revit'\n",
      " 'paint_strip_residue' 'paper' 'peel_off' 'pen' 'pen_mark' 'pencil'\n",
      " 'pencil_grinder' 'permission_card' 'piant_peel' 'plastic_cover'\n",
      " 'power_cleco_gun' 'prick_punch' 'primer_blob' 'primer_bristle'\n",
      " 'primer_cup' 'primer_drop' 'primer_on_bonding_surface' 'primer_peel'\n",
      " 'primer_peel_off' 'primer_sealant' 'ratchet' 'reamer_drill_bit'\n",
      " 'red_mark' 'red_tape' 'residual' 'residue' 'retainer_spring'\n",
      " 'revit_head_damage' 'rf_id' 'ring' 'rivet' 'rivet_cutter' 'rivet_driver'\n",
      " 'rivet_gun' 'rivet_head' 'rivet_head_driver' 'rivet_snap' 'rivet_tape'\n",
      " 'rope' 'round_file' 'saelant_mark' 'scratch' 'scratch_mark' 'screw'\n",
      " 'sealant' 'sealant_cup' 'sealant_dust' 'sealant_gap' 'sealant_gun'\n",
      " 'sealant_mark' 'sealant_overflow' 'sealant_primer' 'sealant_primer_dust'\n",
      " 'sealant_residue' 'sealnt_residue' 'selant_on_fillet' 'shoe'\n",
      " 'silver_tape' 'snap_mark' 'snipper' 'socket' 'socks'\n",
      " 'solid_fastner_screw' 'spanar' 'spectacles' 'sratch_mark' 'stem' 'stick'\n",
      " 'stone' 'surface_dirt' 'surgical_knife' 'tape' 'tape_paste_residue'\n",
      " 'tape_residue' 'tape_roll' 'thread' 'thread_residue' 'tissue_paper'\n",
      " 'tool_mark' 'torch' 'transparent_tape' 'tray' 'universal_head_driver'\n",
      " 'vaccum_blower' 'vernier' 'vernier_caliper' 'vinial_tape' 'visiting_card'\n",
      " 'visitor_card' 'wallet' 'washer' 'wast_dust' 'waste' 'waste_dust'\n",
      " 'waste_paper_residue' 'waste_residual' 'waste_residue' 'water_bottle'\n",
      " 'white_paper_piece' 'white_paste' 'wire_locking_plier' 'wood_piece'\n",
      " 'wrench']\n"
     ]
    }
   ],
   "source": [
    "import glob\n",
    "import os \n",
    "import xml.etree.ElementTree as ET\n",
    "import numpy as np\n",
    "\n",
    "classes = []\n",
    "count_dic = {}\n",
    "root = \"/home/tbal/lincode/data_preparation\"\n",
    "\n",
    "classes = []\n",
    "for f in range(200):\n",
    "    \n",
    "    count = 0\n",
    "    path = f'{root}/batch_{f}'\n",
    "\n",
    "    for file in glob.glob(os.path.join(path,'*.xml')):\n",
    "        tree = ET.parse(file)\n",
    "        for elt in tree.iter():\n",
    "            if (elt.tag == 'name'):\n",
    "                cls = elt.text\n",
    "                if cls not in count_dic:\n",
    "                    \n",
    "                    count_dic[cls] = 0\n",
    "                if cls not in classes:\n",
    "                    classes.append(cls)\n",
    "                count_dic[cls] += 1\n",
    "    # print(path)\n",
    "    # for i in classes:\n",
    "    #     print(i)\n",
    "#     print(classes)\n",
    "    \n",
    "    # print(count_dic)\n",
    "# print(count_dic)\n",
    "# print(len(count_dic))\n",
    "print(np.unique(classes))"
   ]
  },
  {
   "cell_type": "code",
   "execution_count": 6,
   "metadata": {},
   "outputs": [
    {
     "data": {
      "text/plain": [
       "dict_keys([])"
      ]
     },
     "execution_count": 6,
     "metadata": {},
     "output_type": "execute_result"
    }
   ],
   "source": [
    "count_dic.keys()"
   ]
  },
  {
   "cell_type": "code",
   "execution_count": 23,
   "metadata": {},
   "outputs": [],
   "source": [
    "l  = ['masking_tape', 'mirror', 'sealant_residue', 'burr', 'excess_paint']"
   ]
  },
  {
   "cell_type": "code",
   "execution_count": 24,
   "metadata": {},
   "outputs": [
    {
     "name": "stdout",
     "output_type": "stream",
     "text": [
      "masking_tape\n",
      "mirror\n",
      "sealant_residue\n",
      "burr\n",
      "excess_paint\n"
     ]
    }
   ],
   "source": [
    "for i in l :\n",
    "    print(i)"
   ]
  },
  {
   "cell_type": "code",
   "execution_count": null,
   "metadata": {},
   "outputs": [],
   "source": []
  }
 ],
 "metadata": {
  "interpreter": {
   "hash": "abe3e7935131a19076b343c79ab5a5b0e5cad8246204652b31b35a28b7124703"
  },
  "kernelspec": {
   "display_name": "Python 3.9.7 64-bit ('tbal': conda)",
   "name": "python3"
  },
  "language_info": {
   "codemirror_mode": {
    "name": "ipython",
    "version": 3
   },
   "file_extension": ".py",
   "mimetype": "text/x-python",
   "name": "python",
   "nbconvert_exporter": "python",
   "pygments_lexer": "ipython3",
   "version": "3.9.7"
  }
 },
 "nbformat": 4,
 "nbformat_minor": 4
}
