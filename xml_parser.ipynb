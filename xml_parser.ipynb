{
 "cells": [
  {
   "cell_type": "code",
   "execution_count": 14,
   "metadata": {},
   "outputs": [
    {
     "name": "stdout",
     "output_type": "stream",
     "text": [
      "hi\n"
     ]
    }
   ],
   "source": [
    "print(\"hi\")"
   ]
  },
  {
   "cell_type": "code",
   "execution_count": 38,
   "metadata": {},
   "outputs": [],
   "source": [
    "import xml.etree.ElementTree as ET"
   ]
  },
  {
   "cell_type": "code",
   "execution_count": 4,
   "metadata": {},
   "outputs": [],
   "source": [
    "tree = ET.parse('WIN_20220609_12_23_50_Pro.xml')\n",
    "root = tree.getroot()"
   ]
  },
  {
   "cell_type": "code",
   "execution_count": 5,
   "metadata": {},
   "outputs": [
    {
     "data": {
      "text/plain": [
       "'annotation'"
      ]
     },
     "execution_count": 5,
     "metadata": {},
     "output_type": "execute_result"
    }
   ],
   "source": [
    "root.tag"
   ]
  },
  {
   "cell_type": "code",
   "execution_count": 6,
   "metadata": {},
   "outputs": [
    {
     "data": {
      "text/plain": [
       "{}"
      ]
     },
     "execution_count": 6,
     "metadata": {},
     "output_type": "execute_result"
    }
   ],
   "source": [
    "root.attrib"
   ]
  },
  {
   "cell_type": "code",
   "execution_count": 7,
   "metadata": {},
   "outputs": [
    {
     "name": "stdout",
     "output_type": "stream",
     "text": [
      "folder {}\n",
      "filename {}\n",
      "path {}\n",
      "source {}\n",
      "size {}\n",
      "segmented {}\n",
      "object {}\n",
      "object {}\n",
      "object {}\n",
      "object {}\n",
      "object {}\n",
      "object {}\n",
      "object {}\n"
     ]
    }
   ],
   "source": [
    "for child in root:\n",
    "    print(child.tag, child.attrib)"
   ]
  },
  {
   "cell_type": "code",
   "execution_count": 8,
   "metadata": {},
   "outputs": [
    {
     "data": {
      "text/plain": [
       "['annotation',\n",
       " 'folder',\n",
       " 'filename',\n",
       " 'path',\n",
       " 'source',\n",
       " 'database',\n",
       " 'size',\n",
       " 'width',\n",
       " 'height',\n",
       " 'depth',\n",
       " 'segmented',\n",
       " 'object',\n",
       " 'name',\n",
       " 'pose',\n",
       " 'truncated',\n",
       " 'difficult',\n",
       " 'bndbox',\n",
       " 'xmin',\n",
       " 'ymin',\n",
       " 'xmax',\n",
       " 'ymax',\n",
       " 'object',\n",
       " 'name',\n",
       " 'pose',\n",
       " 'truncated',\n",
       " 'difficult',\n",
       " 'bndbox',\n",
       " 'xmin',\n",
       " 'ymin',\n",
       " 'xmax',\n",
       " 'ymax',\n",
       " 'object',\n",
       " 'name',\n",
       " 'pose',\n",
       " 'truncated',\n",
       " 'difficult',\n",
       " 'bndbox',\n",
       " 'xmin',\n",
       " 'ymin',\n",
       " 'xmax',\n",
       " 'ymax',\n",
       " 'object',\n",
       " 'name',\n",
       " 'pose',\n",
       " 'truncated',\n",
       " 'difficult',\n",
       " 'bndbox',\n",
       " 'xmin',\n",
       " 'ymin',\n",
       " 'xmax',\n",
       " 'ymax',\n",
       " 'object',\n",
       " 'name',\n",
       " 'pose',\n",
       " 'truncated',\n",
       " 'difficult',\n",
       " 'bndbox',\n",
       " 'xmin',\n",
       " 'ymin',\n",
       " 'xmax',\n",
       " 'ymax',\n",
       " 'object',\n",
       " 'name',\n",
       " 'pose',\n",
       " 'truncated',\n",
       " 'difficult',\n",
       " 'bndbox',\n",
       " 'xmin',\n",
       " 'ymin',\n",
       " 'xmax',\n",
       " 'ymax',\n",
       " 'object',\n",
       " 'name',\n",
       " 'pose',\n",
       " 'truncated',\n",
       " 'difficult',\n",
       " 'bndbox',\n",
       " 'xmin',\n",
       " 'ymin',\n",
       " 'xmax',\n",
       " 'ymax']"
      ]
     },
     "execution_count": 8,
     "metadata": {},
     "output_type": "execute_result"
    }
   ],
   "source": [
    "[elem.tag for elem in root.iter()]"
   ]
  },
  {
   "cell_type": "code",
   "execution_count": 13,
   "metadata": {},
   "outputs": [
    {
     "name": "stdout",
     "output_type": "stream",
     "text": [
      "{}\n"
     ]
    }
   ],
   "source": [
    "for movie in root.iter('annotation'):\n",
    "    print(movie.attrib)"
   ]
  },
  {
   "cell_type": "code",
   "execution_count": null,
   "metadata": {},
   "outputs": [],
   "source": []
  },
  {
   "cell_type": "code",
   "execution_count": 39,
   "metadata": {},
   "outputs": [],
   "source": [
    "xmlfile = \"WIN_20220609_12_23_50_Pro.xml\"\n"
   ]
  },
  {
   "cell_type": "code",
   "execution_count": 40,
   "metadata": {},
   "outputs": [],
   "source": [
    "import xml.etree.ElementTree as ET\n",
    "mytree = ET.parse(xmlfile)\n",
    "myroot = mytree.getroot()"
   ]
  },
  {
   "cell_type": "code",
   "execution_count": 41,
   "metadata": {},
   "outputs": [],
   "source": [
    "data = '''<annotation>\n",
    "\t<folder>orientation data</folder>\n",
    "\t<filename>WIN_20220609_12_23_50_Pro.jpg</filename>\n",
    "\t<path>D:\\lincode\\TBAL\\orientation data\\WIN_20220609_12_23_50_Pro.jpg</path>\n",
    "\t<source>\n",
    "\t\t<database>Unknown</database>\n",
    "\t</source>\n",
    "\t<size>\n",
    "\t\t<width>1280</width>\n",
    "\t\t<height>720</height>\n",
    "\t\t<depth>3</depth>\n",
    "\t</size>\n",
    "\t<segmented>0</segmented>\n",
    "\t<object>\n",
    "\t\t<name>hs_clip-90</name>\n",
    "\t\t<pose>Unspecified</pose>\n",
    "\t\t<truncated>0</truncated>\n",
    "\t\t<difficult>0</difficult>\n",
    "\t\t<bndbox>\n",
    "\t\t\t<xmin>347</xmin>\n",
    "\t\t\t<ymin>85</ymin>\n",
    "\t\t\t<xmax>415</xmax>\n",
    "\t\t\t<ymax>141</ymax>\n",
    "\t\t</bndbox>'''"
   ]
  },
  {
   "cell_type": "code",
   "execution_count": 42,
   "metadata": {},
   "outputs": [
    {
     "data": {
      "text/plain": [
       "'annotation'"
      ]
     },
     "execution_count": 42,
     "metadata": {},
     "output_type": "execute_result"
    }
   ],
   "source": [
    "myroot.tag"
   ]
  },
  {
   "cell_type": "code",
   "execution_count": 47,
   "metadata": {},
   "outputs": [
    {
     "data": {
      "text/plain": [
       "{}"
      ]
     },
     "execution_count": 47,
     "metadata": {},
     "output_type": "execute_result"
    }
   ],
   "source": [
    "myroot[2].attrib"
   ]
  },
  {
   "cell_type": "code",
   "execution_count": 50,
   "metadata": {},
   "outputs": [
    {
     "name": "stdout",
     "output_type": "stream",
     "text": [
      "name {}\n",
      "pose {}\n",
      "truncated {}\n",
      "difficult {}\n",
      "bndbox {}\n"
     ]
    }
   ],
   "source": [
    "for x in myroot[6]:\n",
    "    print(x.tag,x.attrib)"
   ]
  },
  {
   "cell_type": "code",
   "execution_count": 52,
   "metadata": {},
   "outputs": [
    {
     "name": "stdout",
     "output_type": "stream",
     "text": [
      "hs_clip-90\n",
      "Unspecified\n",
      "0\n",
      "0\n",
      "\n",
      "\t\t\t\n"
     ]
    }
   ],
   "source": [
    "for x in myroot[6]:\n",
    "    print(x.text)"
   ]
  },
  {
   "cell_type": "code",
   "execution_count": 56,
   "metadata": {},
   "outputs": [
    {
     "name": "stdout",
     "output_type": "stream",
     "text": [
      "hs_clip-90 0\n",
      "nut_plate-0 0\n",
      "hs_clip-180 0\n",
      "nut_plate-0 0\n",
      "hs_clip-270 0\n",
      "nut_plate-0 0\n",
      "hs_clip-0 0\n"
     ]
    }
   ],
   "source": [
    "for x in myroot.findall(\"object\"):\n",
    "    item = x.find(\"name\").text\n",
    "    item2 = x.find(\"difficult\").text\n",
    "    print(item,item2)"
   ]
  },
  {
   "cell_type": "code",
   "execution_count": null,
   "metadata": {},
   "outputs": [],
   "source": []
  },
  {
   "cell_type": "code",
   "execution_count": null,
   "metadata": {},
   "outputs": [],
   "source": []
  },
  {
   "cell_type": "code",
   "execution_count": 57,
   "metadata": {},
   "outputs": [],
   "source": [
    "import xml.etree.ElementTree as ET\n",
    "\n",
    "def extract_boxes(filename):        \n",
    "    # load and parse the file\n",
    "    tree = ET.parse(filename)\n",
    "    # get the root of the document\n",
    "    root = tree.getroot()\n",
    "    # extract each bounding box\n",
    "    boxes = list()\n",
    "    for box in root.findall('.//bndbox'):\n",
    "        xmin = int(box.find('xmin').text)\n",
    "        ymin = int(box.find('ymin').text)\n",
    "        xmax = int(box.find('xmax').text)\n",
    "        ymax = int(box.find('ymax').text)\n",
    "        coors = [xmin, ymin, xmax, ymax]\n",
    "        boxes.append(coors)\n",
    "        \n",
    "    # extract image dimensions\n",
    "    width = int(root.find('.//size/width').text)\n",
    "    height = int(root.find('.//size/height').text)\n",
    "    return boxes, width, height\n",
    "\n",
    "\n",
    "bbs = extract_boxes(r\"D:\\\\lincode\\\\Extra\\\\WIN_20220609_12_23_50_Pro.xml\")"
   ]
  },
  {
   "cell_type": "code",
   "execution_count": 58,
   "metadata": {},
   "outputs": [
    {
     "name": "stdout",
     "output_type": "stream",
     "text": [
      "([[347, 85, 415, 141], [671, 120, 743, 155], [712, 325, 774, 388], [549, 486, 633, 526], [720, 649, 786, 701], [455, 635, 514, 679], [229, 577, 312, 643]], 1280, 720)\n"
     ]
    }
   ],
   "source": [
    "print(bbs)"
   ]
  },
  {
   "cell_type": "code",
   "execution_count": 61,
   "metadata": {},
   "outputs": [],
   "source": [
    "import xml.etree.ElementTree as ET\n",
    "tree = ET.parse(r\"D:\\\\lincode\\\\Extra\\\\WIN_20220609_12_23_50_Pro.xml\")\n",
    "root = tree.getroot()"
   ]
  },
  {
   "cell_type": "code",
   "execution_count": 64,
   "metadata": {},
   "outputs": [
    {
     "name": "stdout",
     "output_type": "stream",
     "text": [
      "[[347, 85, 415, 141], [671, 120, 743, 155], [712, 325, 774, 388], [549, 486, 633, 526], [720, 649, 786, 701], [455, 635, 514, 679], [229, 577, 312, 643]]\n",
      "height--- 720 ---width--- 1280\n"
     ]
    }
   ],
   "source": [
    "boxes = []\n",
    "for box in root.findall('.//bndbox'):\n",
    "    xmin = int(box.find('xmin').text)\n",
    "    ymin = int(box.find('ymin').text)\n",
    "    xmax = int(box.find('xmax').text)\n",
    "    ymax = int(box.find('ymax').text)\n",
    "    coors = [xmin, ymin, xmax, ymax]\n",
    "    boxes.append(coors)\n",
    "    \n",
    "# extract image dimensions\n",
    "width = int(root.find('.//size/width').text)\n",
    "height = int(root.find('.//size/height').text)\n",
    "print(boxes)\n",
    "print(\"height---\",height,\"---width---\",width)"
   ]
  },
  {
   "cell_type": "code",
   "execution_count": 85,
   "metadata": {},
   "outputs": [
    {
     "name": "stdout",
     "output_type": "stream",
     "text": [
      "name :  hs_clip-90 , coordinates :  [347, 85, 415, 141]\n",
      "name :  nut_plate-0 , coordinates :  [671, 120, 743, 155]\n",
      "name :  hs_clip-180 , coordinates :  [712, 325, 774, 388]\n",
      "name :  nut_plate-0 , coordinates :  [549, 486, 633, 526]\n",
      "name :  hs_clip-270 , coordinates :  [720, 649, 786, 701]\n",
      "name :  nut_plate-0 , coordinates :  [455, 635, 514, 679]\n",
      "name :  hs_clip-0 , coordinates :  [229, 577, 312, 643]\n",
      "height--- 720 ---width--- 1280\n"
     ]
    }
   ],
   "source": [
    "import xml.etree.ElementTree as ET\n",
    "tree = ET.parse(r\"D:\\\\lincode\\\\Extra\\\\WIN_20220609_12_23_50_Pro.xml\")\n",
    "root = tree.getroot()\n",
    "\n",
    "\n",
    "boxes = []\n",
    "for box in root.findall('.//object'):\n",
    "    name = str(box.find('name').text)\n",
    "    xmin = int(box.find(\"bndbox/xmin\").text)\n",
    "    ymin = int(box.find(\"bndbox/ymin\").text)\n",
    "    xmax = int(box.find(\"bndbox/xmax\").text)\n",
    "    ymax = int(box.find(\"bndbox/ymax\").text)\n",
    "    # print(name,xmin,ymin,xmax,ymax)\n",
    "    coords = [xmin, ymin, xmax, ymax]\n",
    "    print(\"name : \",name,\", coordinates : \",coords)\n",
    "\n",
    "width = int(root.find('.//size/width').text)\n",
    "height = int(root.find('.//size/height').text)\n",
    "print(\"height---\",height,\"---width---\",width)\n",
    "\n",
    "\n",
    " "
   ]
  },
  {
   "cell_type": "code",
   "execution_count": null,
   "metadata": {},
   "outputs": [],
   "source": []
  }
 ],
 "metadata": {
  "interpreter": {
   "hash": "05949248d3381ed335ef9aa696f8b96ac715cddc3f80189a47949221f8291841"
  },
  "kernelspec": {
   "display_name": "Python 3.8.0",
   "language": "python",
   "name": "python3"
  },
  "language_info": {
   "codemirror_mode": {
    "name": "ipython",
    "version": 3
   },
   "file_extension": ".py",
   "mimetype": "text/x-python",
   "name": "python",
   "nbconvert_exporter": "python",
   "pygments_lexer": "ipython3",
   "version": "3.8.0"
  },
  "orig_nbformat": 4
 },
 "nbformat": 4,
 "nbformat_minor": 2
}
